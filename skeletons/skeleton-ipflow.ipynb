{
 "cells": [
  {
   "cell_type": "markdown",
   "metadata": {},
   "source": [
    "Skeleton for checking IP src and dest on incoming packets "
   ]
  },
  {
   "cell_type": "code",
   "execution_count": null,
   "metadata": {},
   "outputs": [],
   "source": [
    "\n",
    "\"\"\"   \n",
    "edge_ip = \"192.168.128.205\";\n",
    "whitelist= []\n",
    "unknowns_per_timestamp = [][];\n",
    "total_unknown = 0;\n",
    "\"\"\""
   ]
  },
  {
   "cell_type": "markdown",
   "metadata": {},
   "source": [
    "First: iterate data and add to one-dimensional array"
   ]
  },
  {
   "cell_type": "code",
   "execution_count": null,
   "metadata": {},
   "outputs": [],
   "source": [
    "\"\"\"    \n",
    "# Read data\n",
    "\n",
    "# adds dest ip to whitelist\n",
    "def checkSrc(src_ip):\n",
    "    if(src_ip == edge_ip):\n",
    "       if(dest_ip not in whitelist):\n",
    "              whitelist.append(src_ip)\n",
    "              \n",
    "        \n",
    "      \n",
    "\n",
    "# checks if edge has previously spoken to incoming src ip\n",
    "def checkDest(dest_ip):\n",
    "    if(dest_ip == edge_ip):\n",
    "       if(src_ip in whitelist):\n",
    "           return true\n",
    "       else:\n",
    "          isUnknown(dest_ip)\n",
    "          \n",
    "           \n",
    "def isUnknown():\n",
    "    unknowns_per_timestamp.insert([1], [timestamp])\n",
    "    \"\"\"    "
   ]
  },
  {
   "cell_type": "markdown",
   "metadata": {},
   "source": [
    "Second: Plot one-dimensional array"
   ]
  },
  {
   "cell_type": "code",
   "execution_count": null,
   "metadata": {},
   "outputs": [],
   "source": [
    "import csv\n",
    "\n",
    "# Read array, NOT CSV -- use Series (https://machinelearningmastery.com/load-explore-time-series-data-python/)\n",
    "\n",
    "file = open('./timestamped-mockdata2.csv', 'r')\n",
    "data = list(csv.reader(file))\n",
    "file.close()\n",
    "\n",
    "print(data)"
   ]
  }
 ],
 "metadata": {
  "kernelspec": {
   "display_name": "Python 3.9.7 ('base')",
   "language": "python",
   "name": "python3"
  },
  "language_info": {
   "name": "python",
   "version": "3.9.7"
  },
  "orig_nbformat": 4,
  "vscode": {
   "interpreter": {
    "hash": "e9da6d93700a04d2b8d5121a48aec2dea04c710975bc7bb8ac1b2ca46f2f4a77"
   }
  }
 },
 "nbformat": 4,
 "nbformat_minor": 2
}
